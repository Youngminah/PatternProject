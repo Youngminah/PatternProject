{
 "cells": [
  {
   "cell_type": "markdown",
   "metadata": {},
   "source": [
    "Build a binary classifier based on k random features for each digit against all the other digits at MNIST dataset.\n",
    "\n",
    "Let $x = (x_1, x_2, ... , x_m)$ be a vector representing an image in the dataset.\n",
    "\n",
    "The prediction function $f_d(x; w)$ is defined by the linear combination of input vector x and the model parameter w for each digit d :\n",
    "\n",
    "$f_d(x; w) = w_0 * 1 + w_1 * g_1 + w_2 * g_2 + ... + w_k * g_k$ \n",
    "\n",
    "where $w = (w_0, w_1, ... , w_k)$ and the basis function $g_k$ is defined by the inner product of random vector $r_k$ and input vector x. \n",
    "\n",
    "You may want to try to use $g_k = max( inner production( r_k, x ), 0 )$ to see if it improves the performance.\n",
    "\n",
    "The prediction function $f_d(x; w)$ should have the following values:\n",
    "\n",
    "$f_d(x; w) = +1$ if label(x) = d\n",
    "$f_d(x; w) = -1$ if label(x) is not d\n",
    "\n",
    "The optimal model parameter w is obtained by minimizing the following objective function for each digit $d :\n",
    "\\sum_i ( f_d(x^(i); w) - y^(i) )^2$\n",
    "\n",
    "and the label of input x is given by:\n",
    "\n",
    "$argmax_d f_d(x; w)$\n",
    "\n",
    "1. Compute an optimal model parameter using the training dataset for each classifier $f_d(x, w)$\n",
    "2. Compute (1) true positive rate, (2) error rate using (1) training dataset and (2) testing dataset."
   ]
  },
  {
   "cell_type": "code",
   "execution_count": 24,
   "metadata": {},
   "outputs": [],
   "source": [
    "import matplotlib.pyplot as plt\n",
    "import numpy as np \n",
    "import pandas as pd\n",
    "from numpy.linalg import inv\n",
    "from astropy.table import Table\n",
    "\n",
    "%matplotlib inline\n",
    "\n",
    "import pylab as pl"
   ]
  },
  {
   "cell_type": "markdown",
   "metadata": {},
   "source": [
    "### Define all of Function which is needed."
   ]
  },
  {
   "cell_type": "markdown",
   "metadata": {},
   "source": [
    "##### Whitening Function."
   ]
  },
  {
   "cell_type": "code",
   "execution_count": 25,
   "metadata": {},
   "outputs": [],
   "source": [
    "def normalize_whitening(data):\n",
    "\n",
    "    data_normalized = (data - min(data)) / (max(data) - min(data))\n",
    "\n",
    "    return(data_normalized)"
   ]
  },
  {
   "cell_type": "markdown",
   "metadata": {},
   "source": [
    "##### Label List and Mnist Image Vector List."
   ]
  },
  {
   "cell_type": "code",
   "execution_count": 26,
   "metadata": {},
   "outputs": [],
   "source": [
    "def label_and_img(data):\n",
    "    size_row\t= 28    # height of the image\n",
    "    size_col  \t= 28    # width of the image\n",
    "    num_image\t= len(data)\n",
    "    count       \t= 0  # count for the number of images\n",
    "    list_image  = np.empty((size_row * size_col, num_image), dtype=float)\n",
    "    list_label  = np.empty(num_image, dtype=int)\n",
    "    \n",
    "    for line in data:\n",
    "        line_data      = line.split(',')\n",
    "        label          = line_data[0]\n",
    "        im_vector_bf   = np.asfarray(line_data[1:])\n",
    "\n",
    "        list_label[count]       = label\n",
    "        list_image[:, count]    = im_vector_bf\n",
    "\n",
    "        count += 1\n",
    "        \n",
    "    return list_label,list_image    "
   ]
  },
  {
   "cell_type": "markdown",
   "metadata": {},
   "source": [
    "##### Define Prediction Function $F_w(x)$.\n",
    "$f_w(x) = +1$ if label(x) = d\n",
    "$f_w(x) = -1$ if label(x) is not d"
   ]
  },
  {
   "cell_type": "code",
   "execution_count": 28,
   "metadata": {},
   "outputs": [],
   "source": [
    "def f_x(list_label,num):\n",
    "    f_x=np.asarray([0.0]*len(list_label))\n",
    "\n",
    "    for i in range(len(list_label)):\n",
    "        if list_label[i]== num:\n",
    "            f_x[i]=1\n",
    "        else:\n",
    "            f_x[i]=-1\n",
    "    \n",
    "    return f_x"
   ]
  },
  {
   "cell_type": "markdown",
   "metadata": {},
   "source": [
    "##### Define random vector $r_k$"
   ]
  },
  {
   "cell_type": "code",
   "execution_count": 29,
   "metadata": {},
   "outputs": [],
   "source": [
    "def r_x(list_image):\n",
    "    r_k=np.asarray([[0.0]*784]*784)\n",
    "    for i in range(784):\n",
    "        index=np.random.randint(len(list_image))\n",
    "        r_k[i]=list_image[index]\n",
    "    return r_k"
   ]
  },
  {
   "cell_type": "markdown",
   "metadata": {},
   "source": [
    "##### Define $r_k$, $x_k$ inner product. "
   ]
  },
  {
   "cell_type": "code",
   "execution_count": 27,
   "metadata": {},
   "outputs": [],
   "source": [
    "def g_x(list_image,list_label):\n",
    "    g_k=np.asarray([[0.0]*784]*len(list_label))\n",
    "    for i in range(len(list_label)):    \n",
    "        g_k[i]=r_k@list_image[i].T\n",
    "        g_k[i]=normalize_whitening(g_k[i])\n",
    "    return g_k"
   ]
  },
  {
   "cell_type": "markdown",
   "metadata": {},
   "source": [
    "##### Method for making Pseudo Inverse"
   ]
  },
  {
   "cell_type": "code",
   "execution_count": 30,
   "metadata": {},
   "outputs": [],
   "source": [
    "def pseudo_inverse(A,f_x):\n",
    "    Apinv = (inv(A.T @ A)@ A.T)@f_x\n",
    "    return Apinv"
   ]
  },
  {
   "cell_type": "markdown",
   "metadata": {},
   "source": [
    "##### Seta = w and A = x Matrix\n",
    "$g = (g_1, g_2, ... , g_m)$ image in the dataset.\n",
    "$w = (w_0, w_1, ... , w_m)$"
   ]
  },
  {
   "cell_type": "code",
   "execution_count": 31,
   "metadata": {},
   "outputs": [],
   "source": [
    "def seta_and_A(g_k,f_x):\n",
    "    one=np.array([[1.0]]*len(g_k))\n",
    "\n",
    "    A= np.hstack([one,g_k])\n",
    "    Apinv=np.linalg.pinv(A)\n",
    "    seta=Apinv @ f_x\n",
    "    \n",
    "    return seta,A"
   ]
  },
  {
   "cell_type": "markdown",
   "metadata": {},
   "source": [
    "#### Method for Classification_matrix."
   ]
  },
  {
   "cell_type": "code",
   "execution_count": 32,
   "metadata": {},
   "outputs": [],
   "source": [
    "def Classification_matrix(final_f_x,list_label):\n",
    "    cnt=0\n",
    "    classification=np.asarray([[0]*10]*10)\n",
    "    for k in range(10):\n",
    "        for j in range(10):\n",
    "            cnt=0\n",
    "            for i in range(len(list_label)):\n",
    "                if(final_f_x[i]==k and list_label[i]==j):\n",
    "                    cnt=cnt+1\n",
    "            classification[k][j]=cnt\n",
    "            \n",
    "    return classification"
   ]
  },
  {
   "cell_type": "markdown",
   "metadata": {},
   "source": [
    "##### Compute true positive rate and error rate."
   ]
  },
  {
   "cell_type": "code",
   "execution_count": 33,
   "metadata": {},
   "outputs": [],
   "source": [
    "def truepositive_and_error_rate(list_label,classification_train):\n",
    "    tp_cnt=0\n",
    "    for i in range(10):\n",
    "        tp_cnt+=classification_train[i][i]\n",
    "\n",
    "    tp_rate=tp_cnt/len(list_label)*100\n",
    "    error_rate=(len(list_label)-tp_cnt)/len(list_label)*100\n",
    "    \n",
    "    return tp_rate,error_rate"
   ]
  },
  {
   "cell_type": "markdown",
   "metadata": {},
   "source": [
    "# For Train Set."
   ]
  },
  {
   "cell_type": "code",
   "execution_count": 34,
   "metadata": {},
   "outputs": [],
   "source": [
    "file_data\t\t= \"mnist_train.csv\"\n",
    "handle_file\t= open(file_data, \"r\")\n",
    "data        \t\t= handle_file.readlines()\n",
    "handle_file.close()"
   ]
  },
  {
   "cell_type": "code",
   "execution_count": 35,
   "metadata": {},
   "outputs": [],
   "source": [
    "list_label,list_image=label_and_img(data)\n",
    "list_image=np.asarray(list_image.T)"
   ]
  },
  {
   "cell_type": "code",
   "execution_count": 36,
   "metadata": {},
   "outputs": [],
   "source": [
    "r_k=r_x(list_image)"
   ]
  },
  {
   "cell_type": "code",
   "execution_count": 37,
   "metadata": {},
   "outputs": [],
   "source": [
    "g_k= g_x(list_image,list_label)"
   ]
  },
  {
   "cell_type": "code",
   "execution_count": 38,
   "metadata": {},
   "outputs": [],
   "source": [
    "f_x_0=f_x(list_label,0)\n",
    "f_x_1=f_x(list_label,1)\n",
    "f_x_2=f_x(list_label,2)\n",
    "f_x_3=f_x(list_label,3)\n",
    "f_x_4=f_x(list_label,4)\n",
    "f_x_5=f_x(list_label,5)\n",
    "f_x_6=f_x(list_label,6)\n",
    "f_x_7=f_x(list_label,7)\n",
    "f_x_8=f_x(list_label,8)\n",
    "f_x_9=f_x(list_label,9)"
   ]
  },
  {
   "cell_type": "code",
   "execution_count": 39,
   "metadata": {},
   "outputs": [],
   "source": [
    "seta_0,A_0 = seta_and_A(g_k,f_x_0)\n",
    "seta_1,A_1 = seta_and_A(g_k,f_x_1)\n",
    "seta_2,A_2 = seta_and_A(g_k,f_x_2)\n",
    "seta_3,A_3 = seta_and_A(g_k,f_x_3)\n",
    "seta_4,A_4 = seta_and_A(g_k,f_x_4)\n",
    "seta_5,A_5 = seta_and_A(g_k,f_x_5)\n",
    "seta_6,A_6 = seta_and_A(g_k,f_x_6)\n",
    "seta_7,A_7 = seta_and_A(g_k,f_x_7)\n",
    "seta_8,A_8 = seta_and_A(g_k,f_x_8)\n",
    "seta_9,A_9 = seta_and_A(g_k,f_x_9)"
   ]
  },
  {
   "cell_type": "code",
   "execution_count": 40,
   "metadata": {},
   "outputs": [],
   "source": [
    "final_f_x=np.asarray([0]*len(list_label)) \n",
    "argmax_list=np.asarray([0.0]*10)\n",
    "for i in range(len(list_label)):\n",
    "    argmax_list[0]=np.sum(seta_0*A_0[i]) \n",
    "    argmax_list[1]=np.sum(seta_1*A_1[i]) \n",
    "    argmax_list[2]=np.sum(seta_2*A_2[i])\n",
    "    argmax_list[3]=np.sum(seta_3*A_3[i])\n",
    "    argmax_list[4]=np.sum(seta_4*A_4[i]) \n",
    "    argmax_list[5]=np.sum(seta_5*A_5[i])\n",
    "    argmax_list[6]=np.sum(seta_6*A_6[i])\n",
    "    argmax_list[7]=np.sum(seta_7*A_7[i])\n",
    "    argmax_list[8]=np.sum(seta_8*A_8[i]) \n",
    "    argmax_list[9]=np.sum(seta_9*A_9[i]) \n",
    "    for j in range(10):\n",
    "        if argmax_list[j]==np.max(argmax_list):\n",
    "            final_f_x[i]=j\n",
    "            break;\n",
    "    "
   ]
  },
  {
   "cell_type": "code",
   "execution_count": 41,
   "metadata": {},
   "outputs": [
    {
     "name": "stdout",
     "output_type": "stream",
     "text": [
      "[5 0 4 ... 5 6 8]\n"
     ]
    }
   ],
   "source": [
    "print(final_f_x)"
   ]
  },
  {
   "cell_type": "markdown",
   "metadata": {},
   "source": [
    "#### Classification of Matrix."
   ]
  },
  {
   "cell_type": "code",
   "execution_count": 42,
   "metadata": {},
   "outputs": [
    {
     "name": "stdout",
     "output_type": "stream",
     "text": [
      "[[5620    1   89   44    7  207  122   64   69   74]\n",
      " [   3 6548  136   73   39   49   29  104  308   39]\n",
      " [  26   45 4915  195   42   39   76   44   92   21]\n",
      " [  23   14  153 5230    6  519    5   70  208  114]\n",
      " [  16   28   88   22 5280   67   43  128   81  363]\n",
      " [  55   26   11   97   53 3956   97   11  249   16]\n",
      " [  68   19  226   55   57  183 5473    7   45    6]\n",
      " [   3    9   79  126   21   41    0 5517   23  441]\n",
      " [ 105   44  238  179   56  223   71   23 4633   57]\n",
      " [   4    8   23  110  281  137    2  297  143 4818]]\n"
     ]
    }
   ],
   "source": [
    "classification_train = Classification_matrix(final_f_x,list_label)\n",
    "print(classification_train)"
   ]
  },
  {
   "cell_type": "markdown",
   "metadata": {},
   "source": [
    "## Compute (1) true positive rate, (2) error rate using the train set"
   ]
  },
  {
   "cell_type": "code",
   "execution_count": 43,
   "metadata": {},
   "outputs": [
    {
     "name": "stdout",
     "output_type": "stream",
     "text": [
      "86.65\n",
      "13.350000000000001\n"
     ]
    }
   ],
   "source": [
    "tp_rate,error_rate=truepositive_and_error_rate(list_label,classification_train)\n",
    "print(tp_rate)\n",
    "print(error_rate)"
   ]
  },
  {
   "cell_type": "markdown",
   "metadata": {},
   "source": [
    "# For Test set."
   ]
  },
  {
   "cell_type": "code",
   "execution_count": 44,
   "metadata": {},
   "outputs": [],
   "source": [
    "file_data_test\t\t= \"mnist_test.csv\"\n",
    "handle_file_test\t= open(file_data_test, \"r\")\n",
    "data_test        \t\t= handle_file_test.readlines()\n",
    "handle_file_test.close()"
   ]
  },
  {
   "cell_type": "code",
   "execution_count": 45,
   "metadata": {},
   "outputs": [],
   "source": [
    "list_label_test,list_image_test=label_and_img(data_test)\n",
    "list_image_test=np.array(list_image_test.T)"
   ]
  },
  {
   "cell_type": "code",
   "execution_count": 46,
   "metadata": {},
   "outputs": [],
   "source": [
    "r_k_test=r_x(list_image_test)"
   ]
  },
  {
   "cell_type": "code",
   "execution_count": 47,
   "metadata": {},
   "outputs": [],
   "source": [
    "g_k_test= g_x(list_image_test,list_label_test)"
   ]
  },
  {
   "cell_type": "code",
   "execution_count": 48,
   "metadata": {},
   "outputs": [],
   "source": [
    "f_x_0_test=f_x(list_label_test,0)\n",
    "f_x_1_test=f_x(list_label_test,1)\n",
    "f_x_2_test=f_x(list_label_test,2)\n",
    "f_x_3_test=f_x(list_label_test,3)\n",
    "f_x_4_test=f_x(list_label_test,4)\n",
    "f_x_5_test=f_x(list_label_test,5)\n",
    "f_x_6_test=f_x(list_label_test,6)\n",
    "f_x_7_test=f_x(list_label_test,7)\n",
    "f_x_8_test=f_x(list_label_test,8)\n",
    "f_x_9_test=f_x(list_label_test,9)"
   ]
  },
  {
   "cell_type": "code",
   "execution_count": 49,
   "metadata": {},
   "outputs": [],
   "source": [
    "seta_0_test,A_0_test = seta_and_A(g_k_test,f_x_0_test)\n",
    "seta_1_test,A_1_test = seta_and_A(g_k_test,f_x_1_test)\n",
    "seta_2_test,A_2_test = seta_and_A(g_k_test,f_x_2_test)\n",
    "seta_3_test,A_3_test = seta_and_A(g_k_test,f_x_3_test)\n",
    "seta_4_test,A_4_test = seta_and_A(g_k_test,f_x_4_test)\n",
    "seta_5_test,A_5_test = seta_and_A(g_k_test,f_x_5_test)\n",
    "seta_6_test,A_6_test = seta_and_A(g_k_test,f_x_6_test)\n",
    "seta_7_test,A_7_test = seta_and_A(g_k_test,f_x_7_test)\n",
    "seta_8_test,A_8_test = seta_and_A(g_k_test,f_x_8_test)\n",
    "seta_9_test,A_9_test = seta_and_A(g_k_test,f_x_9_test)"
   ]
  },
  {
   "cell_type": "code",
   "execution_count": 50,
   "metadata": {},
   "outputs": [],
   "source": [
    "final_f_x_test=np.asarray([0]*len(list_label_test)) \n",
    "argmax_list_test=np.asarray([0.0]*10)\n",
    "for i in range(len(list_label_test)):\n",
    "    argmax_list_test[0]=np.sum(seta_0_test*A_0_test[i]) \n",
    "    argmax_list_test[1]=np.sum(seta_1_test*A_1_test[i]) \n",
    "    argmax_list_test[2]=np.sum(seta_2_test*A_2_test[i])\n",
    "    argmax_list_test[3]=np.sum(seta_3_test*A_3_test[i])\n",
    "    argmax_list_test[4]=np.sum(seta_4_test*A_4_test[i]) \n",
    "    argmax_list_test[5]=np.sum(seta_5_test*A_5_test[i])\n",
    "    argmax_list_test[6]=np.sum(seta_6_test*A_6_test[i])\n",
    "    argmax_list_test[7]=np.sum(seta_7_test*A_7_test[i])\n",
    "    argmax_list_test[8]=np.sum(seta_8_test*A_8_test[i]) \n",
    "    argmax_list_test[9]=np.sum(seta_9_test*A_9_test[i]) \n",
    "    for j in range(10):\n",
    "        if argmax_list_test[j]==np.max(argmax_list_test):\n",
    "            final_f_x_test[i]=j\n",
    "            break;"
   ]
  },
  {
   "cell_type": "markdown",
   "metadata": {},
   "source": [
    "#### Classification of Matrix"
   ]
  },
  {
   "cell_type": "code",
   "execution_count": 51,
   "metadata": {},
   "outputs": [
    {
     "name": "stdout",
     "output_type": "stream",
     "text": [
      "[[ 949    0   12    5    1   18   22    5   10   13]\n",
      " [   0 1119    8    4    3    4    3   15   31   11]\n",
      " [   2    4  894   24    4    7    4   12    7    1]\n",
      " [   4    1   24  895    0   59    0    8   29   16]\n",
      " [   0    1   11    4  912   18    6   15    8   59]\n",
      " [   7    0    1   16    2  703   15    1   36    1]\n",
      " [   6    5   26    4    9   21  896    3    9    1]\n",
      " [   1    0   16   19    1   10    0  922    8   45]\n",
      " [  10    5   35   25    7   40   12    3  818   14]\n",
      " [   1    0    5   14   43   12    0   44   18  848]]\n"
     ]
    }
   ],
   "source": [
    "classification_train_test = Classification_matrix(final_f_x_test,list_label_test)\n",
    "print(classification_train_test)"
   ]
  },
  {
   "cell_type": "markdown",
   "metadata": {},
   "source": [
    "## Compute (1) true positive rate, (2) error rate using the test set."
   ]
  },
  {
   "cell_type": "code",
   "execution_count": 52,
   "metadata": {},
   "outputs": [
    {
     "name": "stdout",
     "output_type": "stream",
     "text": [
      "89.56\n",
      "10.440000000000001\n"
     ]
    }
   ],
   "source": [
    "tp_rate_test,error_rate_test=truepositive_and_error_rate(list_label_test,classification_train_test)\n",
    "print(tp_rate_test)\n",
    "print(error_rate_test)"
   ]
  },
  {
   "cell_type": "markdown",
   "metadata": {},
   "source": [
    "# Show as a Matrix."
   ]
  },
  {
   "cell_type": "code",
   "execution_count": 53,
   "metadata": {},
   "outputs": [
    {
     "name": "stdout",
     "output_type": "stream",
     "text": [
      "\n",
      "+-----------------------+-----------------------+--------------------+\n",
      "|                       |       Train set       |      Test set      |\n",
      "+-----------------------+-----------------------+--------------------+\n",
      "|  True  positive rate  |        86.650 %       |       89.560 %     |\n",
      "+-----------------------+-----------------------+--------------------+\n",
      "|  Error rate           |        13.350 %       |       10.440 %     |\n",
      "+-----------------------+-----------------------+--------------------+\n"
     ]
    }
   ],
   "source": [
    "print(\"\"\"\n",
    "+-----------------------+-----------------------+--------------------+\n",
    "|                       |       Train set       |      Test set      |\n",
    "+-----------------------+-----------------------+--------------------+\n",
    "|  True  positive rate  |        %6.3f %%       |       %6.3f %%     |\n",
    "+-----------------------+-----------------------+--------------------+\n",
    "|  Error rate           |        %6.3f %%       |       %6.3f %%     |\n",
    "+-----------------------+-----------------------+--------------------+\"\"\"\n",
    "%(tp_rate,tp_rate_test,error_rate,error_rate_test))"
   ]
  },
  {
   "cell_type": "markdown",
   "metadata": {},
   "source": [
    "# As a result, True positive rate has increased more than previous assignment."
   ]
  }
 ],
 "metadata": {
  "kernelspec": {
   "display_name": "Python 3",
   "language": "python",
   "name": "python3"
  },
  "language_info": {
   "codemirror_mode": {
    "name": "ipython",
    "version": 3
   },
   "file_extension": ".py",
   "mimetype": "text/x-python",
   "name": "python",
   "nbconvert_exporter": "python",
   "pygments_lexer": "ipython3",
   "version": "3.7.4"
  }
 },
 "nbformat": 4,
 "nbformat_minor": 2
}
