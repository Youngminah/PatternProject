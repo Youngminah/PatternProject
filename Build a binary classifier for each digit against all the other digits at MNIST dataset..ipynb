{
 "cells": [
  {
   "cell_type": "markdown",
   "metadata": {},
   "source": [
    "####  **Professor:  $\\;\\;\\;$Hong Hyung-Woo** \n",
    "####  **Student NB: $\\;\\;\\;\\;\\;\\;\\;\\;\\;\\;\\;$ 20166450** \n",
    "####  **Major:           $\\;\\;\\;$ Software Engineering**\n",
    "####  **Name:         $\\;\\;\\;\\;\\;\\;\\;\\;\\;\\;\\;$   Kim Young Min**"
   ]
  },
  {
   "cell_type": "markdown",
   "metadata": {},
   "source": [
    "Build a binary classifier for each digit against all the other digits at MNIST dataset.\n",
    "\n",
    "Let $x = (x_1, x_2, ... , x_m)$ be a vector representing an image in the dataset.\n",
    "\n",
    "The prediction function $f_d(x; w)$ is defined by the linear combination of data (1, x) and the model parameter w for each digit d :\n",
    "$f_d(x; w) = w_0 * 1 + w_1 * x_1 + w_2 * x_2 + ... + w_m * x_m $\n",
    "where $w = (w_0, w_1, ... , w_m)$\n",
    "\n",
    "The prediction function $f_d(x; w)$ should have the following values:\n",
    "$f_d(x; w) = +1$ if label(x) = d\n",
    "$f_d(x; w) = -1$ if label(x) is not d\n",
    "\n",
    "The optimal model parameter w is obtained by minimizing the following objective function for each digit $d :\n",
    "\\sum_i ( f_d(x^(i); w) - y^(i) )^2$\n",
    "\n",
    "and the label of input x is given by:\n",
    "\n",
    "$argmax_d f_d(x; w)$\n",
    "\n",
    "1. Compute an optimal model parameter using the training dataset for each classifier f_d(x, w)\n",
    "2. Compute (1) true positive rate, (2) error rate using (1) training dataset and (2) testing dataset."
   ]
  },
  {
   "cell_type": "code",
   "execution_count": 1,
   "metadata": {},
   "outputs": [],
   "source": [
    "import matplotlib.pyplot as plt\n",
    "import numpy as np \n",
    "import pandas as pd\n",
    "from numpy.linalg import inv\n",
    "from astropy.table import Table\n",
    "\n",
    "%matplotlib inline\n",
    "\n",
    "import pylab as pl"
   ]
  },
  {
   "cell_type": "markdown",
   "metadata": {},
   "source": [
    "### At First, Define all of Function which is needed."
   ]
  },
  {
   "cell_type": "markdown",
   "metadata": {},
   "source": [
    "##### Whitening Function."
   ]
  },
  {
   "cell_type": "code",
   "execution_count": 2,
   "metadata": {},
   "outputs": [],
   "source": [
    "def normalize_whitening(data):\n",
    "\n",
    "    data_normalized = (data - min(data)) / (max(data) - min(data))\n",
    "\n",
    "    return(data_normalized)"
   ]
  },
  {
   "cell_type": "markdown",
   "metadata": {},
   "source": [
    "##### Label List and Mnist Image Vector List."
   ]
  },
  {
   "cell_type": "code",
   "execution_count": 3,
   "metadata": {},
   "outputs": [],
   "source": [
    "def label_and_img(data):\n",
    "    size_row\t= 28    # height of the image\n",
    "    size_col  \t= 28    # width of the image\n",
    "    num_image\t= len(data)\n",
    "    count       \t= 0  # count for the number of images\n",
    "    list_image  = np.empty((size_row * size_col, num_image), dtype=float)\n",
    "    list_label  = np.empty(num_image, dtype=int)\n",
    "    \n",
    "    for line in data:\n",
    "        line_data   = line.split(',')\n",
    "        label       = line_data[0]\n",
    "        im_vector   = np.asfarray(line_data[1:])\n",
    "        im_vector   = normalize_whitening(im_vector)\n",
    "\n",
    "        list_label[count]       = label\n",
    "        list_image[:, count]    = im_vector    \n",
    "\n",
    "        count += 1\n",
    "        \n",
    "    return list_label,list_image    "
   ]
  },
  {
   "cell_type": "markdown",
   "metadata": {},
   "source": [
    "##### Define Prediction Function $F_w(x)$.\n",
    "$f_w(x) = +1$ if label(x) = d\n",
    "$f_w(x) = -1$ if label(x) is not d"
   ]
  },
  {
   "cell_type": "code",
   "execution_count": 16,
   "metadata": {},
   "outputs": [],
   "source": [
    "def f_x(list_label,num):\n",
    "    f_x=np.asarray([0.0]*len(list_label))\n",
    "\n",
    "    for i in range(len(list_label)):\n",
    "        if list_label[i]== num:\n",
    "            f_x[i]=1\n",
    "        else:\n",
    "            f_x[i]=-1\n",
    "    \n",
    "    return f_x"
   ]
  },
  {
   "cell_type": "markdown",
   "metadata": {},
   "source": [
    "##### Method for making Pseudo Inverse"
   ]
  },
  {
   "cell_type": "code",
   "execution_count": 5,
   "metadata": {},
   "outputs": [],
   "source": [
    "def pseudo_inverse(A,f_x):\n",
    "    Apinv = (inv(A.T @ A)@ A.T)@f_x\n",
    "    return Apinv"
   ]
  },
  {
   "cell_type": "markdown",
   "metadata": {},
   "source": [
    "##### Seta = w and A = x Matrix\n",
    "$x = (x_1, x_2, ... , x_m)$ image in the dataset.\n",
    "$w = (w_0, w_1, ... , w_m)$"
   ]
  },
  {
   "cell_type": "code",
   "execution_count": 6,
   "metadata": {},
   "outputs": [],
   "source": [
    "def seta_and_A(list_image,f_x):\n",
    "    one=np.array([[1.0]]*len(list_image))\n",
    "\n",
    "    A= np.hstack([one,list_image])\n",
    "    Apinv=np.linalg.pinv(A)\n",
    "    seta=Apinv @ f_x\n",
    "    \n",
    "    return seta,A"
   ]
  },
  {
   "cell_type": "markdown",
   "metadata": {},
   "source": [
    "#### Method for Classification_matrix."
   ]
  },
  {
   "cell_type": "code",
   "execution_count": 40,
   "metadata": {},
   "outputs": [],
   "source": [
    "def Classification_matrix(final_f_x,list_label):\n",
    "    cnt=0\n",
    "    classification=np.asarray([[0]*10]*10)\n",
    "    for k in range(10):\n",
    "        for j in range(10):\n",
    "            cnt=0\n",
    "            for i in range(len(list_label)):\n",
    "                if(final_f_x[i]==k and list_label[i]==j):\n",
    "                    cnt=cnt+1\n",
    "            classification[k][j]=cnt\n",
    "            \n",
    "    return classification"
   ]
  },
  {
   "cell_type": "code",
   "execution_count": 69,
   "metadata": {},
   "outputs": [],
   "source": [
    "def truepositive_and_error_rate(list_label,classification_train):\n",
    "    tp_cnt=0\n",
    "    for i in range(10):\n",
    "        tp_cnt+=classification_train[i][i]\n",
    "\n",
    "    tp_rate=tp_cnt/len(list_label)*100\n",
    "    error_rate=(len(list_label)-tp_cnt)/len(list_label)*100\n",
    "    \n",
    "    return tp_rate,error_rate"
   ]
  },
  {
   "cell_type": "markdown",
   "metadata": {},
   "source": [
    "### Secondly, Performing about Train Set and Test Set."
   ]
  },
  {
   "cell_type": "markdown",
   "metadata": {},
   "source": [
    "# For Train Set."
   ]
  },
  {
   "cell_type": "markdown",
   "metadata": {},
   "source": [
    "##### Read file.csv."
   ]
  },
  {
   "cell_type": "code",
   "execution_count": 73,
   "metadata": {},
   "outputs": [],
   "source": [
    "file_data\t\t= \"mnist_train.csv\"\n",
    "handle_file\t= open(file_data, \"r\")\n",
    "data        \t\t= handle_file.readlines()\n",
    "handle_file.close()"
   ]
  },
  {
   "cell_type": "markdown",
   "metadata": {},
   "source": [
    "## Compute an optimal model parameter using the training dataset"
   ]
  },
  {
   "cell_type": "code",
   "execution_count": 74,
   "metadata": {},
   "outputs": [],
   "source": [
    "list_label,list_image=label_and_img(data)\n",
    "list_image=np.array(list_image.T)"
   ]
  },
  {
   "cell_type": "markdown",
   "metadata": {},
   "source": [
    "##### Compute A, f(x), w about each classifier."
   ]
  },
  {
   "cell_type": "code",
   "execution_count": 75,
   "metadata": {},
   "outputs": [],
   "source": [
    "f_x_0=f_x(list_label,0)\n",
    "f_x_1=f_x(list_label,1)\n",
    "f_x_2=f_x(list_label,2)\n",
    "f_x_3=f_x(list_label,3)\n",
    "f_x_4=f_x(list_label,4)\n",
    "f_x_5=f_x(list_label,5)\n",
    "f_x_6=f_x(list_label,6)\n",
    "f_x_7=f_x(list_label,7)\n",
    "f_x_8=f_x(list_label,8)\n",
    "f_x_9=f_x(list_label,9)"
   ]
  },
  {
   "cell_type": "code",
   "execution_count": 1,
   "metadata": {},
   "outputs": [
    {
     "ename": "NameError",
     "evalue": "name 'seta_and_A' is not defined",
     "output_type": "error",
     "traceback": [
      "\u001b[1;31m---------------------------------------------------------------------------\u001b[0m",
      "\u001b[1;31mNameError\u001b[0m                                 Traceback (most recent call last)",
      "\u001b[1;32m<ipython-input-1-5ee338af2452>\u001b[0m in \u001b[0;36m<module>\u001b[1;34m\u001b[0m\n\u001b[1;32m----> 1\u001b[1;33m \u001b[0mseta_0\u001b[0m\u001b[1;33m,\u001b[0m\u001b[0mA_0\u001b[0m \u001b[1;33m=\u001b[0m \u001b[0mseta_and_A\u001b[0m\u001b[1;33m(\u001b[0m\u001b[0mlist_image\u001b[0m\u001b[1;33m,\u001b[0m\u001b[0mf_x_0\u001b[0m\u001b[1;33m)\u001b[0m\u001b[1;33m\u001b[0m\u001b[1;33m\u001b[0m\u001b[0m\n\u001b[0m\u001b[0;32m      2\u001b[0m \u001b[0mseta_1\u001b[0m\u001b[1;33m,\u001b[0m\u001b[0mA_1\u001b[0m \u001b[1;33m=\u001b[0m \u001b[0mseta_and_A\u001b[0m\u001b[1;33m(\u001b[0m\u001b[0mlist_image\u001b[0m\u001b[1;33m,\u001b[0m\u001b[0mf_x_1\u001b[0m\u001b[1;33m)\u001b[0m\u001b[1;33m\u001b[0m\u001b[1;33m\u001b[0m\u001b[0m\n\u001b[0;32m      3\u001b[0m \u001b[0mseta_2\u001b[0m\u001b[1;33m,\u001b[0m\u001b[0mA_2\u001b[0m \u001b[1;33m=\u001b[0m \u001b[0mseta_and_A\u001b[0m\u001b[1;33m(\u001b[0m\u001b[0mlist_image\u001b[0m\u001b[1;33m,\u001b[0m\u001b[0mf_x_2\u001b[0m\u001b[1;33m)\u001b[0m\u001b[1;33m\u001b[0m\u001b[1;33m\u001b[0m\u001b[0m\n\u001b[0;32m      4\u001b[0m \u001b[0mseta_3\u001b[0m\u001b[1;33m,\u001b[0m\u001b[0mA_3\u001b[0m \u001b[1;33m=\u001b[0m \u001b[0mseta_and_A\u001b[0m\u001b[1;33m(\u001b[0m\u001b[0mlist_image\u001b[0m\u001b[1;33m,\u001b[0m\u001b[0mf_x_3\u001b[0m\u001b[1;33m)\u001b[0m\u001b[1;33m\u001b[0m\u001b[1;33m\u001b[0m\u001b[0m\n\u001b[0;32m      5\u001b[0m \u001b[0mseta_4\u001b[0m\u001b[1;33m,\u001b[0m\u001b[0mA_4\u001b[0m \u001b[1;33m=\u001b[0m \u001b[0mseta_and_A\u001b[0m\u001b[1;33m(\u001b[0m\u001b[0mlist_image\u001b[0m\u001b[1;33m,\u001b[0m\u001b[0mf_x_4\u001b[0m\u001b[1;33m)\u001b[0m\u001b[1;33m\u001b[0m\u001b[1;33m\u001b[0m\u001b[0m\n",
      "\u001b[1;31mNameError\u001b[0m: name 'seta_and_A' is not defined"
     ]
    }
   ],
   "source": [
    "seta_0,A_0 = seta_and_A(list_image,f_x_0)\n",
    "seta_1,A_1 = seta_and_A(list_image,f_x_1)\n",
    "seta_2,A_2 = seta_and_A(list_image,f_x_2)\n",
    "seta_3,A_3 = seta_and_A(list_image,f_x_3)\n",
    "seta_4,A_4 = seta_and_A(list_image,f_x_4)\n",
    "seta_5,A_5 = seta_and_A(list_image,f_x_5)\n",
    "seta_6,A_6 = seta_and_A(list_image,f_x_6)\n",
    "seta_7,A_7 = seta_and_A(list_image,f_x_7)\n",
    "seta_8,A_8 = seta_and_A(list_image,f_x_8)\n",
    "seta_9,A_9 = seta_and_A(list_image,f_x_9)\n",
    "print(A_0)"
   ]
  },
  {
   "cell_type": "markdown",
   "metadata": {},
   "source": [
    "##### The optimal model parameter w is obtained by minimizing the following objective function for each digit $d :\n",
    "\\sum_i ( f_d(x^(i); w) - y^(i) )^2$"
   ]
  },
  {
   "cell_type": "code",
   "execution_count": 77,
   "metadata": {},
   "outputs": [],
   "source": [
    "final_f_x=np.asarray([0]*len(list_label)) \n",
    "argmax_list=np.asarray([0.0]*10)\n",
    "for i in range(len(list_label)):\n",
    "    argmax_list[0]=np.sum(seta_0*A_0[i]) \n",
    "    argmax_list[1]=np.sum(seta_1*A_1[i]) \n",
    "    argmax_list[2]=np.sum(seta_2*A_2[i])\n",
    "    argmax_list[3]=np.sum(seta_3*A_3[i])\n",
    "    argmax_list[4]=np.sum(seta_4*A_4[i]) \n",
    "    argmax_list[5]=np.sum(seta_5*A_5[i])\n",
    "    argmax_list[6]=np.sum(seta_6*A_6[i])\n",
    "    argmax_list[7]=np.sum(seta_7*A_7[i])\n",
    "    argmax_list[8]=np.sum(seta_8*A_8[i]) \n",
    "    argmax_list[9]=np.sum(seta_9*A_9[i]) \n",
    "    for j in range(10):\n",
    "        if argmax_list[j]==np.max(argmax_list):\n",
    "            final_f_x[i]=j\n",
    "            break;\n",
    "    "
   ]
  },
  {
   "cell_type": "markdown",
   "metadata": {},
   "source": [
    "#### Prediction Function"
   ]
  },
  {
   "cell_type": "code",
   "execution_count": 78,
   "metadata": {},
   "outputs": [
    {
     "name": "stdout",
     "output_type": "stream",
     "text": [
      "[5 0 4 ... 5 6 8]\n"
     ]
    }
   ],
   "source": [
    "print(final_f_x)"
   ]
  },
  {
   "cell_type": "markdown",
   "metadata": {},
   "source": [
    "#### Classification of Matrix"
   ]
  },
  {
   "cell_type": "code",
   "execution_count": 79,
   "metadata": {},
   "outputs": [
    {
     "name": "stdout",
     "output_type": "stream",
     "text": [
      "[[5682    2   99   42   10  164  108   55   75   68]\n",
      " [   7 6548  264  167   99   95   74  189  493   60]\n",
      " [  18   40 4792  176   42   28   61   37   63   20]\n",
      " [  14   15  149 5159    6  433    1   47  226  117]\n",
      " [  24   19  108   32 5211  105   70  170  105  371]\n",
      " [  43   31   11  124   50 3990   90    9  222   12]\n",
      " [  64   14  234   56   39  192 5476    2   56    4]\n",
      " [   4   12   91  115   23   36    0 5426   20  491]\n",
      " [  61   55  192  135   59  235   35   10 4411   38]\n",
      " [   6    6   18  125  303  143    3  320  180 4768]]\n"
     ]
    }
   ],
   "source": [
    "classification_train = Classification_matrix(final_f_x,list_label)\n",
    "print(classification_train)"
   ]
  },
  {
   "cell_type": "markdown",
   "metadata": {},
   "source": [
    "## Compute (1) true positive rate, (2) error rate using (1) training dataset and (2) testing dataset."
   ]
  },
  {
   "cell_type": "code",
   "execution_count": 80,
   "metadata": {},
   "outputs": [
    {
     "name": "stdout",
     "output_type": "stream",
     "text": [
      "85.77166666666668\n",
      "14.228333333333335\n"
     ]
    }
   ],
   "source": [
    "tp_rate,error_rate=truepositive_and_error_rate(list_label,classification_train)\n",
    "print(tp_rate)\n",
    "print(error_rate)"
   ]
  },
  {
   "cell_type": "markdown",
   "metadata": {},
   "source": [
    "# For Test set."
   ]
  },
  {
   "cell_type": "code",
   "execution_count": 81,
   "metadata": {},
   "outputs": [],
   "source": [
    "file_data_test\t\t= \"mnist_test.csv\"\n",
    "handle_file_test\t= open(file_data_test, \"r\")\n",
    "data_test        \t\t= handle_file_test.readlines()\n",
    "handle_file_test.close()"
   ]
  },
  {
   "cell_type": "markdown",
   "metadata": {},
   "source": [
    "## Compute an optimal model parameter using the test dataset"
   ]
  },
  {
   "cell_type": "code",
   "execution_count": 82,
   "metadata": {},
   "outputs": [],
   "source": [
    "list_label_test,list_image_test=label_and_img(data_test)\n",
    "list_image_test=np.array(list_image_test.T)"
   ]
  },
  {
   "cell_type": "markdown",
   "metadata": {},
   "source": [
    "##### Compute A, f(x), w about each classifier."
   ]
  },
  {
   "cell_type": "code",
   "execution_count": 83,
   "metadata": {},
   "outputs": [],
   "source": [
    "f_x_0_test=f_x(list_label_test,0)\n",
    "f_x_1_test=f_x(list_label_test,1)\n",
    "f_x_2_test=f_x(list_label_test,2)\n",
    "f_x_3_test=f_x(list_label_test,3)\n",
    "f_x_4_test=f_x(list_label_test,4)\n",
    "f_x_5_test=f_x(list_label_test,5)\n",
    "f_x_6_test=f_x(list_label_test,6)\n",
    "f_x_7_test=f_x(list_label_test,7)\n",
    "f_x_8_test=f_x(list_label_test,8)\n",
    "f_x_9_test=f_x(list_label_test,9)"
   ]
  },
  {
   "cell_type": "code",
   "execution_count": 84,
   "metadata": {},
   "outputs": [],
   "source": [
    "seta_0_test,A_0_test = seta_and_A(list_image_test,f_x_0_test)\n",
    "seta_1_test,A_1_test = seta_and_A(list_image_test,f_x_1_test)\n",
    "seta_2_test,A_2_test = seta_and_A(list_image_test,f_x_2_test)\n",
    "seta_3_test,A_3_test = seta_and_A(list_image_test,f_x_3_test)\n",
    "seta_4_test,A_4_test = seta_and_A(list_image_test,f_x_4_test)\n",
    "seta_5_test,A_5_test = seta_and_A(list_image_test,f_x_5_test)\n",
    "seta_6_test,A_6_test = seta_and_A(list_image_test,f_x_6_test)\n",
    "seta_7_test,A_7_test = seta_and_A(list_image_test,f_x_7_test)\n",
    "seta_8_test,A_8_test = seta_and_A(list_image_test,f_x_8_test)\n",
    "seta_9_test,A_9_test = seta_and_A(list_image_test,f_x_9_test)"
   ]
  },
  {
   "cell_type": "markdown",
   "metadata": {},
   "source": [
    "##### The optimal model parameter w is obtained by minimizing the following objective function for each digit $d :\n",
    "\\sum_i ( f_d(x^(i); w) - y^(i) )^2$"
   ]
  },
  {
   "cell_type": "code",
   "execution_count": 85,
   "metadata": {},
   "outputs": [],
   "source": [
    "final_f_x_test=np.asarray([0]*len(list_label_test)) \n",
    "argmax_list_test=np.asarray([0.0]*10)\n",
    "for i in range(len(list_label_test)):\n",
    "    argmax_list_test[0]=np.sum(seta_0_test*A_0_test[i]) \n",
    "    argmax_list_test[1]=np.sum(seta_1_test*A_1_test[i]) \n",
    "    argmax_list_test[2]=np.sum(seta_2_test*A_2_test[i])\n",
    "    argmax_list_test[3]=np.sum(seta_3_test*A_3_test[i])\n",
    "    argmax_list_test[4]=np.sum(seta_4_test*A_4_test[i]) \n",
    "    argmax_list_test[5]=np.sum(seta_5_test*A_5_test[i])\n",
    "    argmax_list_test[6]=np.sum(seta_6_test*A_6_test[i])\n",
    "    argmax_list_test[7]=np.sum(seta_7_test*A_7_test[i])\n",
    "    argmax_list_test[8]=np.sum(seta_8_test*A_8_test[i]) \n",
    "    argmax_list_test[9]=np.sum(seta_9_test*A_9_test[i]) \n",
    "    for j in range(10):\n",
    "        if argmax_list_test[j]==np.max(argmax_list_test):\n",
    "            final_f_x_test[i]=j\n",
    "            break;"
   ]
  },
  {
   "cell_type": "markdown",
   "metadata": {},
   "source": [
    "#### Prediction Function"
   ]
  },
  {
   "cell_type": "code",
   "execution_count": 86,
   "metadata": {},
   "outputs": [
    {
     "name": "stdout",
     "output_type": "stream",
     "text": [
      "[7 2 1 ... 4 5 6]\n"
     ]
    }
   ],
   "source": [
    "print(final_f_x_test)"
   ]
  },
  {
   "cell_type": "markdown",
   "metadata": {},
   "source": [
    "#### Classification of Matrix"
   ]
  },
  {
   "cell_type": "code",
   "execution_count": 87,
   "metadata": {},
   "outputs": [
    {
     "name": "stdout",
     "output_type": "stream",
     "text": [
      "[[ 949    0   11    4    0   17   15    5   13   14]\n",
      " [   0 1115   36   16   19   23    9   34   44   13]\n",
      " [   1    5  884   18    5    3    4   13    8    3]\n",
      " [   6    1   17  893    0   55    0    3   26   14]\n",
      " [   1    2   13    5  898   18    9   21   13   58]\n",
      " [   8    1    0   14    1  692   16    1   29    3]\n",
      " [   7    4   23    3    6   21  896    1    9    1]\n",
      " [   1    1   20   17    1   16    0  908    8   53]\n",
      " [   6    6   23   24    7   37    9    1  801   10]\n",
      " [   1    0    5   16   45   10    0   41   23  840]]\n"
     ]
    }
   ],
   "source": [
    "classification_train_test = Classification_matrix(final_f_x_test,list_label_test)\n",
    "print(classification_train_test)"
   ]
  },
  {
   "cell_type": "markdown",
   "metadata": {},
   "source": [
    "## Compute (1) true positive rate, (2) error rate using (1) training dataset and (2) testing dataset."
   ]
  },
  {
   "cell_type": "code",
   "execution_count": 88,
   "metadata": {},
   "outputs": [
    {
     "name": "stdout",
     "output_type": "stream",
     "text": [
      "88.75999999999999\n",
      "11.24\n"
     ]
    }
   ],
   "source": [
    "tp_rate_test,error_rate_test=truepositive_and_error_rate(list_label_test,classification_train_test)\n",
    "print(tp_rate_test)\n",
    "print(error_rate_test)"
   ]
  },
  {
   "cell_type": "markdown",
   "metadata": {},
   "source": [
    "# Show as a Matrix."
   ]
  },
  {
   "cell_type": "code",
   "execution_count": 89,
   "metadata": {},
   "outputs": [
    {
     "name": "stdout",
     "output_type": "stream",
     "text": [
      "\n",
      "+-----------------------+-----------------------+--------------------+\n",
      "|                       |       Train set       |      Test set      |\n",
      "+-----------------------+-----------------------+--------------------+\n",
      "|  True  positive rate  |        85.772 %       |       88.760 %     |\n",
      "+-----------------------+-----------------------+--------------------+\n",
      "|  Error rate           |        14.228 %       |       11.240 %     |\n",
      "+-----------------------+-----------------------+--------------------+\n"
     ]
    }
   ],
   "source": [
    "print(\"\"\"\n",
    "+-----------------------+-----------------------+--------------------+\n",
    "|                       |       Train set       |      Test set      |\n",
    "+-----------------------+-----------------------+--------------------+\n",
    "|  True  positive rate  |        %6.3f %%       |       %6.3f %%     |\n",
    "+-----------------------+-----------------------+--------------------+\n",
    "|  Error rate           |        %6.3f %%       |       %6.3f %%     |\n",
    "+-----------------------+-----------------------+--------------------+\"\"\"\n",
    "%(tp_rate,tp_rate_test,error_rate,error_rate_test))"
   ]
  }
 ],
 "metadata": {
  "kernelspec": {
   "display_name": "Python 3",
   "language": "python",
   "name": "python3"
  },
  "language_info": {
   "codemirror_mode": {
    "name": "ipython",
    "version": 3
   },
   "file_extension": ".py",
   "mimetype": "text/x-python",
   "name": "python",
   "nbconvert_exporter": "python",
   "pygments_lexer": "ipython3",
   "version": "3.7.1"
  }
 },
 "nbformat": 4,
 "nbformat_minor": 2
}
