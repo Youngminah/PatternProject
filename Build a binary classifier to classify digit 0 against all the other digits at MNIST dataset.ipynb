{
 "cells": [
  {
   "cell_type": "markdown",
   "metadata": {},
   "source": [
    "####  **Professor:  $\\;\\;\\;$Hong Hyung-Woo** \n",
    "####  **Student NB: $\\;\\;\\;\\;\\;\\;\\;\\;\\;\\;\\;$ 20166450** \n",
    "####  **Major:           $\\;\\;\\;$ Software Engineering**\n",
    "####  **Name:         $\\;\\;\\;\\;\\;\\;\\;\\;\\;\\;\\;$   Kim Young Min**"
   ]
  },
  {
   "cell_type": "markdown",
   "metadata": {},
   "source": [
    "Build a binary classifier to classify digit 0 against all the other digits at MNIST dataset.\n",
    "\n",
    "Let $x = (x_1, x_2, ... , x_m)$ be a vector representing an image in the dataset.\n",
    "\n",
    "The prediction function f_w(x) is defined by the linear combination of data (1, x) and the model parameter $w:\n",
    "f_w(x) = w_0 * 1 + w_1 * x_1 + w_2 * x_2 + ... + w_m * x_m$ \n",
    "where $w = (w_0, w_1, ... , w_m)$\n",
    "\n",
    "The prediction function f_w(x) should have the following values:\n",
    "$f_w(x) = +1$ if label(x) = 0\n",
    "$f_w(x) = -1$ if label(x) is not 0\n",
    "\n",
    "The optimal model parameter w is obtained by minimizing the following objective function:\n",
    "$\\sum_i ( f_w(x^i - y^i ))^2$\n",
    "\n",
    "1. Compute an optimal model parameter using the training dataset\n",
    "2. Compute (1) True Positive, (2) False Positive, (3) True Negative, (4) False Negative based on the computed optimal model parameter using (1) training dataset and (2) testing dataset."
   ]
  },
  {
   "cell_type": "markdown",
   "metadata": {},
   "source": [
    "### At First, Define all of Function which is needed."
   ]
  },
  {
   "cell_type": "code",
   "execution_count": 359,
   "metadata": {},
   "outputs": [],
   "source": [
    "import matplotlib.pyplot as plt\n",
    "import numpy as np \n",
    "import pandas as pd\n",
    "from numpy.linalg import inv\n",
    "from astropy.table import Table\n",
    "\n",
    "%matplotlib inline\n",
    "\n",
    "import pylab as pl"
   ]
  },
  {
   "cell_type": "markdown",
   "metadata": {},
   "source": [
    "##### Whitening Function."
   ]
  },
  {
   "cell_type": "code",
   "execution_count": 360,
   "metadata": {},
   "outputs": [],
   "source": [
    "def normalize_whitening(data):\n",
    "\n",
    "    data_normalized = (data - min(data)) / (max(data) - min(data))\n",
    "\n",
    "    return(data_normalized)"
   ]
  },
  {
   "cell_type": "markdown",
   "metadata": {},
   "source": [
    "##### Label List and Mnist Image Vector List."
   ]
  },
  {
   "cell_type": "code",
   "execution_count": 361,
   "metadata": {},
   "outputs": [],
   "source": [
    "def label_and_img(data):\n",
    "    size_row\t= 28    # height of the image\n",
    "    size_col  \t= 28    # width of the image\n",
    "    num_image\t= len(data)\n",
    "    count       \t= 0  # count for the number of images\n",
    "    list_image  = np.empty((size_row * size_col, num_image), dtype=float)\n",
    "    list_label  = np.empty(num_image, dtype=int)\n",
    "    for line in data:\n",
    "        line_data   = line.split(',')\n",
    "        label       = line_data[0]\n",
    "        im_vector   = np.asfarray(line_data[1:])\n",
    "        im_vector   = normalize_whitening(im_vector)\n",
    "\n",
    "        list_label[count]       = label\n",
    "        list_image[:, count]    = im_vector    \n",
    "\n",
    "        count += 1\n",
    "        \n",
    "    return list_label,list_image    "
   ]
  },
  {
   "cell_type": "markdown",
   "metadata": {},
   "source": [
    "##### Count how many Zero image in Mnist data sets and Classify Zero Image Vector List."
   ]
  },
  {
   "cell_type": "code",
   "execution_count": 362,
   "metadata": {},
   "outputs": [],
   "source": [
    "def zero_img(list_label,list_image):\n",
    "    cnt_zero=0\n",
    "    for i in range(len(list_label)):\n",
    "        if list_label[i]==0:\n",
    "            cnt_zero+=1\n",
    "\n",
    "    zero_img=np.array([[0.0]*784]*cnt_zero)\n",
    "\n",
    "    k=0\n",
    "    for j in range(len(list_label)):\n",
    "        if list_label[j]==0:\n",
    "            zero_img[k]=list_image[j]\n",
    "            k=k+1\n",
    "    \n",
    "    return cnt_zero,zero_img"
   ]
  },
  {
   "cell_type": "markdown",
   "metadata": {},
   "source": [
    "##### Define Prediction Function $F_w(x)$.\n",
    "$f_w(x) = +1$ if label(x) = 0\n",
    "$f_w(x) = -1$ if label(x) is not 0"
   ]
  },
  {
   "cell_type": "code",
   "execution_count": 363,
   "metadata": {},
   "outputs": [],
   "source": [
    "def f_x(list_label):\n",
    "    f_x=np.array([0.0]*len(list_label))\n",
    "\n",
    "    for i in range(len(list_label)):\n",
    "        if list_label[i]==0:\n",
    "            f_x[i]=1\n",
    "        else:\n",
    "            f_x[i]=-1\n",
    "    \n",
    "    return f_x"
   ]
  },
  {
   "cell_type": "markdown",
   "metadata": {},
   "source": [
    "##### Method for making Pseudo Inverse"
   ]
  },
  {
   "cell_type": "code",
   "execution_count": 364,
   "metadata": {},
   "outputs": [],
   "source": [
    "def pseudo_inverse(A,f_x):\n",
    "    Apinv = (inv(A.T @ A)@ A.T)@f_x\n",
    "    return Apinv"
   ]
  },
  {
   "cell_type": "markdown",
   "metadata": {},
   "source": [
    "##### Seta = w and A = x Matrix\n",
    "$x = (x_1, x_2, ... , x_m)$ image in the dataset.\n",
    "$w = (w_0, w_1, ... , w_m)$"
   ]
  },
  {
   "cell_type": "code",
   "execution_count": 365,
   "metadata": {},
   "outputs": [],
   "source": [
    "def seta_and_A(list_image,f_x):\n",
    "    one=np.array([[1.0]]*len(list_image))\n",
    "\n",
    "    A= np.hstack([one,list_image])\n",
    "    Apinv=np.linalg.pinv(A)\n",
    "    seta=Apinv @ f_x\n",
    "    \n",
    "    return seta,A"
   ]
  },
  {
   "cell_type": "markdown",
   "metadata": {},
   "source": [
    "##### Approximate $F_w  (x)$ for minimizing the following objective function: $\\sum_i ( f_w(x^i - y^i ))^2$"
   ]
  },
  {
   "cell_type": "code",
   "execution_count": 366,
   "metadata": {},
   "outputs": [],
   "source": [
    "def apx_f_x(seta,A,list_label):\n",
    "    final_f_x=np.array([0]*len(list_label)) \n",
    "    for i in range(len(list_label)):\n",
    "        if (np.sum(seta * A[i])) > 0:\n",
    "            final_f_x[i]=0\n",
    "        else:\n",
    "            final_f_x[i]=100\n",
    "    return final_f_x"
   ]
  },
  {
   "cell_type": "markdown",
   "metadata": {},
   "source": [
    "#### Confusion_matrix for true positive, false positive, true negative, false negative"
   ]
  },
  {
   "cell_type": "code",
   "execution_count": 367,
   "metadata": {},
   "outputs": [],
   "source": [
    "def Confusion_matrix(final_f_x,list_label):\n",
    "    real_and_say_zero=0\n",
    "    for i in range(len(list_label)):\n",
    "        if(final_f_x[i]==0 and list_label[i]==0):\n",
    "            real_and_say_zero=real_and_say_zero+1\n",
    "\n",
    "    noreal_but_say_zero=0\n",
    "    for i in range(len(list_label)):\n",
    "        if(final_f_x[i]==0 and list_label[i]!=0):\n",
    "            noreal_but_say_zero=noreal_but_say_zero+1\n",
    "\n",
    "\n",
    "    real_but_say_nonzero=0\n",
    "    for i in range(len(list_label)):\n",
    "        if(final_f_x[i]!=0 and list_label[i]==0):\n",
    "            real_but_say_nonzero=real_but_say_nonzero+1\n",
    "\n",
    "    real_and_say_nonzero=0   \n",
    "    for i in range(len(list_label)):\n",
    "        if(final_f_x[i]!=0 and list_label[i]!=0):\n",
    "            real_and_say_nonzero=real_and_say_nonzero+1\n",
    "        \n",
    "    return real_and_say_zero,noreal_but_say_zero,real_but_say_nonzero,real_and_say_nonzero"
   ]
  },
  {
   "cell_type": "markdown",
   "metadata": {},
   "source": [
    "### Secondly, Performing about Train Set and Test Set."
   ]
  },
  {
   "cell_type": "markdown",
   "metadata": {},
   "source": [
    "# For Train Set."
   ]
  },
  {
   "cell_type": "markdown",
   "metadata": {},
   "source": [
    "##### Read file.csv."
   ]
  },
  {
   "cell_type": "code",
   "execution_count": 339,
   "metadata": {},
   "outputs": [],
   "source": [
    "file_data\t\t= \"mnist_train.csv\"\n",
    "handle_file\t= open(file_data, \"r\")\n",
    "data        \t\t= handle_file.readlines()\n",
    "handle_file.close()"
   ]
  },
  {
   "cell_type": "markdown",
   "metadata": {},
   "source": [
    "## Compute an optimal model parameter using the training dataset"
   ]
  },
  {
   "cell_type": "markdown",
   "metadata": {},
   "source": [
    "##### Build a binary classifier to classify digit 0 against all the other digits at MNIST dataset."
   ]
  },
  {
   "cell_type": "code",
   "execution_count": 340,
   "metadata": {},
   "outputs": [],
   "source": [
    "list_label,list_image=label_and_img(data)\n",
    "list_image=np.array(list_image.T)\n",
    "\n",
    "cnt_zero,zero_img=zero_img(list_label,list_image)\n",
    "        "
   ]
  },
  {
   "cell_type": "markdown",
   "metadata": {},
   "source": [
    "##### $f_w(x)$ = 1 or -1"
   ]
  },
  {
   "cell_type": "code",
   "execution_count": 341,
   "metadata": {},
   "outputs": [],
   "source": [
    "f_x=f_x(list_label)"
   ]
  },
  {
   "cell_type": "markdown",
   "metadata": {},
   "source": [
    "##### Let $x = (x_1, x_2, ... , x_m)$ be a vector representing an image in the dataset."
   ]
  },
  {
   "cell_type": "code",
   "execution_count": 342,
   "metadata": {},
   "outputs": [],
   "source": [
    "seta,A=seta_and_A(list_image,f_x)\n"
   ]
  },
  {
   "cell_type": "markdown",
   "metadata": {},
   "source": [
    "#### Prediction Function"
   ]
  },
  {
   "cell_type": "code",
   "execution_count": 343,
   "metadata": {},
   "outputs": [
    {
     "name": "stdout",
     "output_type": "stream",
     "text": [
      "[100   0 100 ... 100 100 100]\n"
     ]
    }
   ],
   "source": [
    "final_f_x=apx_f_x(seta,A,list_label)\n",
    "\n",
    "print(final_f_x)"
   ]
  },
  {
   "cell_type": "markdown",
   "metadata": {},
   "source": [
    "## Compute (1) True Positive, (2) False Positive, (3) True Negative, (4) False Negative based on the computed optimal model parameter using (1) training dataset and (2) testing dataset."
   ]
  },
  {
   "cell_type": "code",
   "execution_count": 451,
   "metadata": {},
   "outputs": [],
   "source": [
    "real_and_say_zero,noreal_but_say_zero,real_but_say_nonzero,real_and_say_nonzero= Confusion_matrix(final_f_x,list_label)"
   ]
  },
  {
   "cell_type": "code",
   "execution_count": 456,
   "metadata": {},
   "outputs": [
    {
     "name": "stdout",
     "output_type": "stream",
     "text": [
      "87.23619787269965 %\n"
     ]
    }
   ],
   "source": [
    "true_positive_rate=(real_and_say_zero/cnt_zero)\n",
    "print(true_positive*100,\"%\")"
   ]
  },
  {
   "cell_type": "code",
   "execution_count": 460,
   "metadata": {},
   "outputs": [
    {
     "name": "stdout",
     "output_type": "stream",
     "text": [
      "0.3310094864729922 %\n"
     ]
    }
   ],
   "source": [
    "false_positive=noreal_but_say_zero/(60000-cnt_zero)\n",
    "print(false_positive*100,\"%\")"
   ]
  },
  {
   "cell_type": "code",
   "execution_count": 472,
   "metadata": {},
   "outputs": [
    {
     "name": "stdout",
     "output_type": "stream",
     "text": [
      "12.763802127300355 %\n"
     ]
    }
   ],
   "source": [
    "false_negative=real_but_say_nonzero/cnt_zero\n",
    "print(false_negative*100,\"%\")"
   ]
  },
  {
   "cell_type": "code",
   "execution_count": 462,
   "metadata": {},
   "outputs": [
    {
     "name": "stdout",
     "output_type": "stream",
     "text": [
      "99.668990513527 %\n"
     ]
    }
   ],
   "source": [
    "true_negative=real_and_say_nonzero/(60000-cnt_zero)\n",
    "print(true_negative*100,\"%\")"
   ]
  },
  {
   "cell_type": "code",
   "execution_count": 349,
   "metadata": {},
   "outputs": [
    {
     "name": "stdout",
     "output_type": "stream",
     "text": [
      "5923\n",
      "179\n"
     ]
    }
   ],
   "source": [
    "print(cnt_zero)\n",
    "print(noreal_but_say_zero)"
   ]
  },
  {
   "cell_type": "markdown",
   "metadata": {},
   "source": [
    "# For Test set."
   ]
  },
  {
   "cell_type": "code",
   "execution_count": 368,
   "metadata": {},
   "outputs": [],
   "source": [
    "file_data_test\t\t= \"mnist_test.csv\"\n",
    "handle_file_test\t= open(file_data_test, \"r\")\n",
    "data_test        \t\t= handle_file_test.readlines()\n",
    "handle_file_test.close()"
   ]
  },
  {
   "cell_type": "markdown",
   "metadata": {},
   "source": [
    "## Compute an optimal model parameter using the training dataset\n",
    "##### For prediction Function: $w:\n",
    "f_w(x) = w_0 * 1 + w_1 * x_1 + w_2 * x_2 + ... + w_m * x_m$ \n",
    "where $w = (w_0, w_1, ... , w_m)$"
   ]
  },
  {
   "cell_type": "code",
   "execution_count": 369,
   "metadata": {},
   "outputs": [],
   "source": [
    "list_label_test,list_image_test=label_and_img(data_test)\n",
    "list_image_test=np.array(list_image_test.T)\n",
    "\n",
    "\n",
    "cnt_zero_test,zero_img_test = zero_img(list_label_test,list_image_test)"
   ]
  },
  {
   "cell_type": "code",
   "execution_count": 370,
   "metadata": {},
   "outputs": [
    {
     "name": "stdout",
     "output_type": "stream",
     "text": [
      "[100 100 100 ... 100 100 100]\n"
     ]
    }
   ],
   "source": [
    "f_x_test=f_x(list_label_test)\n",
    "seta_test,A_test=seta_and_A(list_image_test,f_x_test)\n",
    "final_f_x_test=apx_f_x(seta_test,A_test,list_label_test)\n",
    "\n",
    "print(final_f_x_test)"
   ]
  },
  {
   "cell_type": "markdown",
   "metadata": {},
   "source": [
    "## Compute (1) True Positive, (2) False Positive, (3) True Negative, (4) False Negative based on the computed optimal model parameter using (1) training dataset and (2) testing dataset."
   ]
  },
  {
   "cell_type": "code",
   "execution_count": 445,
   "metadata": {},
   "outputs": [],
   "source": [
    "real_and_say_zero_t,noreal_but_say_zero_t,real_but_say_nonzero_t,real_and_say_nonzero_t= Confusion_matrix(final_f_x_test,list_label_test)"
   ]
  },
  {
   "cell_type": "code",
   "execution_count": 373,
   "metadata": {},
   "outputs": [
    {
     "name": "stdout",
     "output_type": "stream",
     "text": [
      "91.93877551020408 %\n"
     ]
    }
   ],
   "source": [
    "true_positive_rate_test=(real_and_say_zero_t/cnt_zero_test)\n",
    "print(true_positive_rate_test*100,\"%\")"
   ]
  },
  {
   "cell_type": "code",
   "execution_count": 374,
   "metadata": {},
   "outputs": [
    {
     "name": "stdout",
     "output_type": "stream",
     "text": [
      "0.3547671840354767 %\n"
     ]
    }
   ],
   "source": [
    "false_positive_rate_test=noreal_but_say_zero_t/(10000-cnt_zero_test)\n",
    "print(false_positive_rate_test*100,\"%\")"
   ]
  },
  {
   "cell_type": "code",
   "execution_count": 474,
   "metadata": {},
   "outputs": [
    {
     "name": "stdout",
     "output_type": "stream",
     "text": [
      "8.061224489795919 %\n"
     ]
    }
   ],
   "source": [
    "false_negative_rate_test=real_but_say_nonzero_t/cnt_zero_test\n",
    "print(false_negative_rate_test*100,\"%\")"
   ]
  },
  {
   "cell_type": "code",
   "execution_count": 475,
   "metadata": {},
   "outputs": [
    {
     "name": "stdout",
     "output_type": "stream",
     "text": [
      "99.64523281596452 %\n"
     ]
    }
   ],
   "source": [
    "true_negative_rate_test=real_and_say_nonzero_t/(10000-cnt_zero_test)\n",
    "print(true_negative_rate_test*100,\"%\")"
   ]
  },
  {
   "cell_type": "markdown",
   "metadata": {},
   "source": [
    "# Show The Confusion Matrix"
   ]
  },
  {
   "cell_type": "code",
   "execution_count": 477,
   "metadata": {
    "scrolled": true
   },
   "outputs": [
    {
     "name": "stdout",
     "output_type": "stream",
     "text": [
      "\n",
      "+------------------+-----------------------+--------------------+\n",
      "|                  |       Train set       |      Test set      |\n",
      "+------------------+-----------------------+--------------------+\n",
      "|  True  positive  |        87.236 %       |       91.939 %     |\n",
      "+------------------+-----------------------+--------------------+\n",
      "|  False positive  |         0.331 %       |        0.355 %     |\n",
      "+------------------+-----------------------+--------------------+\n",
      "|  True  negative  |        99.669 %       |       99.645 %     |\n",
      "+------------------+-----------------------+--------------------+\n",
      "|  False negative  |        12.764 %       |        8.061 %     |\n",
      "+------------------+-----------------------+--------------------+\n"
     ]
    }
   ],
   "source": [
    "print(\"\"\"\n",
    "+------------------+-----------------------+--------------------+\n",
    "|                  |       Train set       |      Test set      |\n",
    "+------------------+-----------------------+--------------------+\n",
    "|  True  positive  |        %6.3f %%       |       %6.3f %%     |\n",
    "+------------------+-----------------------+--------------------+\n",
    "|  False positive  |        %6.3f %%       |       %6.3f %%     |\n",
    "+------------------+-----------------------+--------------------+\n",
    "|  True  negative  |        %6.3f %%       |       %6.3f %%     |\n",
    "+------------------+-----------------------+--------------------+\n",
    "|  False negative  |        %6.3f %%       |       %6.3f %%     |\n",
    "+------------------+-----------------------+--------------------+\"\"\"\n",
    "%(true_positive_rate*100,true_positive_rate_test*100,false_positive*100,false_positive_rate_test*100,true_negative*100,true_negative_rate_test*100,false_negative*100,false_negative_rate_test*100))"
   ]
  }
 ],
 "metadata": {
  "kernelspec": {
   "display_name": "Python 3",
   "language": "python",
   "name": "python3"
  },
  "language_info": {
   "codemirror_mode": {
    "name": "ipython",
    "version": 3
   },
   "file_extension": ".py",
   "mimetype": "text/x-python",
   "name": "python",
   "nbconvert_exporter": "python",
   "pygments_lexer": "ipython3",
   "version": "3.7.1"
  }
 },
 "nbformat": 4,
 "nbformat_minor": 2
}
